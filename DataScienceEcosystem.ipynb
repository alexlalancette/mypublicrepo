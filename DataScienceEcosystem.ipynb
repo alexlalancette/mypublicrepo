{
 "cells": [
  {
   "cell_type": "markdown",
   "id": "b23c15a2-502e-4ced-8e02-7e4d63b3186c",
   "metadata": {},
   "source": [
    "# Data Science Tools and Ecosystem"
   ]
  },
  {
   "cell_type": "markdown",
   "id": "0c6c8657-8f17-4cb5-a54b-7e4dba2d95bb",
   "metadata": {},
   "source": [
    "In this notebook, Data Science Tools and Ecosystem are summarized."
   ]
  },
  {
   "cell_type": "markdown",
   "id": "c32b1c11-6c97-4f74-a1c9-b0793e5018a1",
   "metadata": {},
   "source": [
    "**Objectives:**\n",
    "- List popular languages for Data Science\n",
    "- List commonly used libraries for Data Science\n",
    "- List popular tools for Data Sciences"
   ]
  },
  {
   "cell_type": "markdown",
   "id": "5db4f856-ed37-4f41-a1da-ef46409ea1d0",
   "metadata": {},
   "source": [
    "Some of the popular languages that Data Scientists use are:\n",
    "1. Python\n",
    "2. R\n",
    "3. Java\n",
    "4. Scala\n",
    "5. SQL"
   ]
  },
  {
   "cell_type": "markdown",
   "id": "fe7a3f80-d750-4d7b-85bf-6c32d35af543",
   "metadata": {},
   "source": [
    "Some of the commonly used libraries used by Data Scientists include:\n",
    "1. NumPy\n",
    "2. Pandas\n",
    "3. Matplotlib\n",
    "4. Scikit-learn\n",
    "5. SciPy"
   ]
  },
  {
   "cell_type": "markdown",
   "id": "8432c9fd-868e-404f-acfa-3d722254e031",
   "metadata": {},
   "source": [
    "| Data Science Tools |\n",
    "| :--- |\n",
    "| Weka |\n",
    "| Scrapy |\n",
    "| Pandas |"
   ]
  },
  {
   "cell_type": "markdown",
   "id": "bdc66047-f10b-4980-a78c-1350cfab3ded",
   "metadata": {},
   "source": [
    "### Below are a few examples of evaluating arithmetic expressions in Python"
   ]
  },
  {
   "cell_type": "code",
   "execution_count": 1,
   "id": "4258d841-35e2-4724-8a59-e24daaa78053",
   "metadata": {
    "tags": []
   },
   "outputs": [
    {
     "data": {
      "text/plain": [
       "17"
      ]
     },
     "execution_count": 1,
     "metadata": {},
     "output_type": "execute_result"
    }
   ],
   "source": [
    "# This a simple arithmetic expression to mutiply then add integers\n",
    "\n",
    "(3*4)+5"
   ]
  },
  {
   "cell_type": "code",
   "execution_count": 6,
   "id": "9ea2e6a8-2810-477d-8e60-70c73512837a",
   "metadata": {
    "tags": []
   },
   "outputs": [
    {
     "data": {
      "text/plain": [
       "3.3333333333333335"
      ]
     },
     "execution_count": 6,
     "metadata": {},
     "output_type": "execute_result"
    }
   ],
   "source": [
    "# This will convert 200 minutes to hours by diving by 60\n",
    "\n",
    "200/60"
   ]
  },
  {
   "cell_type": "markdown",
   "id": "480b82af-ccbe-46ee-9486-403a2e8d9960",
   "metadata": {},
   "source": [
    "##  Author\n",
    "Alex Lalancette"
   ]
  },
  {
   "cell_type": "code",
   "execution_count": null,
   "id": "5ea8ec2f-e1fd-4f7f-8b4e-95d1294edfd4",
   "metadata": {},
   "outputs": [],
   "source": []
  }
 ],
 "metadata": {
  "kernelspec": {
   "display_name": "Python",
   "language": "python",
   "name": "conda-env-python-py"
  },
  "language_info": {
   "codemirror_mode": {
    "name": "ipython",
    "version": 3
   },
   "file_extension": ".py",
   "mimetype": "text/x-python",
   "name": "python",
   "nbconvert_exporter": "python",
   "pygments_lexer": "ipython3",
   "version": "3.7.12"
  }
 },
 "nbformat": 4,
 "nbformat_minor": 5
}
